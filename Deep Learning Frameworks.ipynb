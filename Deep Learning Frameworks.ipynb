{
 "cells": [
  {
   "cell_type": "markdown",
   "id": "ea92d627-5667-4f03-9c28-f48f4d44863b",
   "metadata": {},
   "source": [
    "# Deep Learning Frameworks"
   ]
  },
  {
   "cell_type": "markdown",
   "id": "8a549cdf-6d5e-4a15-92a1-8c4d5604487d",
   "metadata": {},
   "source": [
    "1. What is TensorFlow 2.0, and how is it different from TensorFlow 1.x?\n",
    "TensorFlow 2.0 offers eager execution by default, a more Pythonic and intuitive API, integrated Keras API, and simplified model building compared to the complex static graph approach in TensorFlow 1.x."
   ]
  },
  {
   "cell_type": "markdown",
   "id": "a697b048-7518-4928-9153-b6351663e393",
   "metadata": {},
   "source": [
    "2. How do you install TensorFlow 2.0?\n"
   ]
  },
  {
   "cell_type": "code",
   "execution_count": null,
   "id": "c9fac675-cb2b-4df7-b188-de7313aa0b21",
   "metadata": {},
   "outputs": [],
   "source": [
    "pip install tensorflow\n"
   ]
  },
  {
   "cell_type": "markdown",
   "id": "c0d60862-2605-4862-bcd7-773df8db56f8",
   "metadata": {},
   "source": [
    "3. What is the primary function of tf.function in TensorFlow 2.0?\n",
    "It converts a Python function into a TensorFlow graph for performance optimization and faster execution.\n",
    "\n",
    "4. What is the purpose of the Model class in TensorFlow 2.0?\n",
    "tf.keras.Model defines custom models by subclassing. It provides greater flexibility than Sequential, especially for complex architectures."
   ]
  },
  {
   "cell_type": "markdown",
   "id": "cf931798-dbe0-46c7-a542-430be22a9cec",
   "metadata": {},
   "source": [
    "5. How do you create a neural network using TensorFlow 2.0?"
   ]
  },
  {
   "cell_type": "code",
   "execution_count": null,
   "id": "8ac99383-7800-4876-8d9b-7a229e9dfa53",
   "metadata": {},
   "outputs": [],
   "source": [
    "from tensorflow.keras.models import Sequential\n",
    "from tensorflow.keras.layers import Dense\n",
    "\n",
    "model = Sequential([\n",
    "    Dense(32, activation='relu', input_shape=(n_features,)),\n",
    "    Dense(1, activation='sigmoid')\n",
    "])\n",
    "model.compile(optimizer='adam', loss='binary_crossentropy', metrics=['accuracy'])\n"
   ]
  },
  {
   "cell_type": "markdown",
   "id": "259605f5-1470-4b15-a5c6-5c5494046db3",
   "metadata": {},
   "source": [
    "6. What is the importance of Tensor Space in TensorFlow?\n",
    "   \n",
    "Tensor space refers to the multi-dimensional data structures (tensors) that TensorFlow uses for all computations, forming the basis of neural network data flow."
   ]
  },
  {
   "cell_type": "markdown",
   "id": "0c5d0cba-8a35-4d21-ba4f-f7b3c37c8982",
   "metadata": {},
   "source": [
    "7. How can TensorBoard be integrated with TensorFlow 2.0?\n"
   ]
  },
  {
   "cell_type": "code",
   "execution_count": null,
   "id": "3671cf6e-5879-406a-81d5-82d04ac12c14",
   "metadata": {},
   "outputs": [],
   "source": [
    "\n",
    "from tensorflow.keras.callbacks import TensorBoard\n",
    "\n",
    "tensorboard = TensorBoard(log_dir=\"./logs\")\n",
    "model.fit(X_train, y_train, epochs=5, callbacks=[tensorboard])\n",
    "\n"
   ]
  },
  {
   "cell_type": "markdown",
   "id": "a31f994c-fc53-4508-b5ac-a478c4c456f4",
   "metadata": {},
   "source": [
    " 8. What is the purpose of TensorFlow Playground?\n",
    "\n",
    "\n",
    "It’s a web-based interactive tool for experimenting with neural networks. Great for learning and visualizing how parameters affect model performance."
   ]
  },
  {
   "cell_type": "markdown",
   "id": "c19cc38c-5b6a-4d9a-9afa-e884702ed689",
   "metadata": {},
   "source": [
    "9. What is Netron, and how is it useful for deep learning models?\n",
    "\n",
    "Netron is a tool to visualize neural network model architectures (.h5, .onnx, .pb, etc.). It helps in understanding and debugging models."
   ]
  },
  {
   "cell_type": "markdown",
   "id": "c7de7043-1371-4a46-8bbd-aba4b5d3fa1c",
   "metadata": {},
   "source": [
    " 10. What is the difference between TensorFlow and PyTorch?\n",
    "\n",
    "| Feature   | TensorFlow                  | PyTorch                  |\n",
    "| --------- | --------------------------- | ------------------------ |\n",
    "| Execution | Graph (static), Eager (2.x) | Eager (dynamic)          |\n",
    "| Syntax    | More abstract (Keras)       | More Pythonic & flexible |\n",
    "| Community | Industry (Google, etc.)     | Research (academia)      |\n"
   ]
  },
  {
   "cell_type": "markdown",
   "id": "e4695cd7-e338-4cde-9716-211ca49fe666",
   "metadata": {},
   "source": [
    "11. How do you install PyTorch?"
   ]
  },
  {
   "cell_type": "code",
   "execution_count": null,
   "id": "df4dc6b5-115c-4829-98fd-0f9b86eeba6c",
   "metadata": {},
   "outputs": [],
   "source": [
    "pip install torch torchvision\n"
   ]
  },
  {
   "cell_type": "markdown",
   "id": "8e3de8a6-5f86-4247-b58e-54e9233db0c1",
   "metadata": {},
   "source": [
    " 12. What is the basic structure of a PyTorch neural network?"
   ]
  },
  {
   "cell_type": "code",
   "execution_count": null,
   "id": "eaf3591b-3abd-442f-b5d1-b363c491e232",
   "metadata": {},
   "outputs": [],
   "source": [
    "import torch.nn as nn\n",
    "\n",
    "class Net(nn.Module):\n",
    "    def __init__(self):\n",
    "        super().__init__()\n",
    "        self.fc1 = nn.Linear(10, 32)\n",
    "        self.fc2 = nn.Linear(32, 1)\n",
    "\n",
    "    def forward(self, x):\n",
    "        x = torch.relu(self.fc1(x))\n",
    "        return torch.sigmoid(self.fc2(x))\n"
   ]
  },
  {
   "cell_type": "markdown",
   "id": "06a2bc2c-4a4d-4641-b216-de543cc6907c",
   "metadata": {},
   "source": [
    "13. What is the significance of tensors in PyTorch?\n",
    "\n",
    "Tensors are the core data structure, similar to NumPy arrays but with GPU support, enabling efficient deep learning computation.\n",
    "\n",
    "15. What is the difference between torch.Tensor and torch.cuda.Tensor?\n",
    "    \n",
    "torch.Tensor: Resides in CPU memory.\n",
    "\n",
    "torch.cuda.Tensor: Lives on GPU, enabling faster training.\n",
    "\n",
    "Convert using:\n",
    "\n",
    "tensor.to(\"cuda\")  # or .cuda()\n",
    "\n",
    "\n",
    "15. What is the purpose of the torch.optim module in PyTorch?\n",
    "\n",
    "It provides optimizers like SGD, Adam to update model parameters based on gradients.\n",
    "\n",
    " 17. Common activation functions in neural networks:\n",
    "     \n",
    "ReLU\n",
    "\n",
    "Sigmoid\n",
    "\n",
    "Tanh\n",
    "\n",
    "Softmax\n",
    "\n",
    "Leaky ReLU\n",
    "\n",
    "17. Difference between torch.nn.Module and torch.nn.Sequential:\n",
    "    \n",
    "nn.Module: Base class for custom models.\n",
    "\n",
    "nn.Sequential: Quickly build models in a linear stack.\n",
    "\n",
    "nn.Sequential(nn.Linear(10, 32), nn.ReLU(), nn.Linear(32, 1))\n"
   ]
  },
  {
   "cell_type": "markdown",
   "id": "9f400e03-ce1c-4d07-a232-3cb51298470d",
   "metadata": {},
   "source": [
    "18. How to monitor training progress in TensorFlow 2.0?"
   ]
  },
  {
   "cell_type": "code",
   "execution_count": null,
   "id": "783b15e4-ea90-4a89-8dec-94783ec2eb3a",
   "metadata": {},
   "outputs": [],
   "source": [
    "history = model.fit(...)\n",
    "print(history.history)\n"
   ]
  },
  {
   "cell_type": "markdown",
   "id": "e3c753c9-00ed-4a44-8141-7e2e4fa024e7",
   "metadata": {},
   "source": [
    "19. How does the Keras API fit into TensorFlow 2.0?\n",
    "\n",
    "Keras is integrated into TensorFlow 2.x as tf.keras, serving as its high-level API for building and training models."
   ]
  },
  {
   "cell_type": "markdown",
   "id": "afa92fdc-7190-4a0c-9951-53f24bb2e1e5",
   "metadata": {},
   "source": [
    "20. Example deep learning project using TensorFlow 2.0:\n",
    "    \n",
    "Image Classification using CNN on CIFAR-10:"
   ]
  },
  {
   "cell_type": "code",
   "execution_count": null,
   "id": "bfbf31be-2f19-4679-a1a4-c59390daf4ee",
   "metadata": {},
   "outputs": [],
   "source": [
    "from tensorflow.keras.datasets import cifar10\n",
    "from tensorflow.keras.models import Sequential\n",
    "from tensorflow.keras.layers import Conv2D, MaxPooling2D, Flatten, Dense\n",
    "\n",
    "model = Sequential([\n",
    "    Conv2D(32, (3,3), activation='relu', input_shape=(32,32,3)),\n",
    "    MaxPooling2D(),\n",
    "    Flatten(),\n",
    "    Dense(64, activation='relu'),\n",
    "    Dense(10, activation='softmax')\n",
    "])\n"
   ]
  },
  {
   "cell_type": "markdown",
   "id": "d2cf41e8-6692-49ea-9898-9fbad9c6c37b",
   "metadata": {},
   "source": [
    "21. Main advantage of using pre-trained models:\n",
    "    \n",
    "Faster development via transfer learning\n",
    "\n",
    "Better performance with less data\n",
    "\n",
    "Useful for tasks like image classification, NLP, and object detection"
   ]
  },
  {
   "cell_type": "markdown",
   "id": "2b980849-eb6c-4005-b23a-edc51251d13e",
   "metadata": {},
   "source": [
    "# Practical"
   ]
  },
  {
   "cell_type": "code",
   "execution_count": null,
   "id": "c363d870-db27-4e8f-acf7-d2143704d2f2",
   "metadata": {},
   "outputs": [],
   "source": [
    "#  1. How do you install and verify that TensorFlow 2.0 was installed successfully?\n",
    "\n",
    "#Install:\n",
    "\n",
    "pip install tensorflow\n",
    "\n",
    "# Verify:\n",
    "\n",
    "import tensorflow as tf\n",
    "print(tf.__version__)  # Should print >= 2.x.x\n"
   ]
  },
  {
   "cell_type": "code",
   "execution_count": null,
   "id": "579a9202-1ec4-403d-be9c-c6b3f5be002d",
   "metadata": {},
   "outputs": [],
   "source": [
    "# 2. How can you define a simple function in TensorFlow 2.0 to perform addition?\n",
    "\n",
    "import tensorflow as tf\n",
    "\n",
    "@tf.function\n",
    "def add(a, b):\n",
    "    return a + b\n",
    "\n",
    "print(add(tf.constant(3), tf.constant(5)))  # Output: 8\n"
   ]
  },
  {
   "cell_type": "code",
   "execution_count": null,
   "id": "955843fa-42e4-4195-89fa-ee3864095ffa",
   "metadata": {},
   "outputs": [],
   "source": [
    "#  3. How can you create a simple neural network in TensorFlow 2.0 with one hidden layer?\n",
    "\n",
    "from tensorflow.keras.models import Sequential\n",
    "from tensorflow.keras.layers import Dense\n",
    "\n",
    "model = Sequential([\n",
    "    Dense(16, activation='relu', input_shape=(10,)),\n",
    "    Dense(1, activation='sigmoid')\n",
    "])\n",
    "model.compile(optimizer='adam', loss='binary_crossentropy', metrics=['accuracy'])\n"
   ]
  },
  {
   "cell_type": "code",
   "execution_count": null,
   "id": "ee4f6542-80c1-45a7-a8e9-efafd0d3ec08",
   "metadata": {},
   "outputs": [],
   "source": [
    "#4. How can you visualize the training progress using TensorFlow and Matplotlib?\n",
    "\n",
    "import matplotlib.pyplot as plt\n",
    "\n",
    "history = model.fit(X_train, y_train, epochs=10, validation_data=(X_val, y_val))\n",
    "plt.plot(history.history['loss'], label='Loss')\n",
    "plt.plot(history.history['val_loss'], label='Val Loss')\n",
    "plt.legend()\n",
    "plt.show()\n"
   ]
  },
  {
   "cell_type": "code",
   "execution_count": null,
   "id": "0835cb2b-5038-41de-84d6-c47e058a6d63",
   "metadata": {},
   "outputs": [],
   "source": [
    "## 5. How do you install PyTorch and verify the PyTorch installation?\n",
    "\n",
    "# Install:\n",
    "pip install torch torchvision\n",
    "\n",
    "#Verify:\n",
    "import torch\n",
    "print(torch.__version__)  # Check version\n",
    "print(torch.cuda.is_available())  # Check GPU availability\n"
   ]
  },
  {
   "cell_type": "code",
   "execution_count": null,
   "id": "3690ef4f-af9f-4b25-bc9b-58a040a624bf",
   "metadata": {},
   "outputs": [],
   "source": [
    "#  6. How do you create a simple neural network in PyTorch?\n",
    "\n",
    "import torch.nn as nn\n",
    "\n",
    "class SimpleNet(nn.Module):\n",
    "    def __init__(self):\n",
    "        super().__init__()\n",
    "        self.fc1 = nn.Linear(10, 16)\n",
    "        self.fc2 = nn.Linear(16, 1)\n",
    "\n",
    "    def forward(self, x):\n",
    "        x = torch.relu(self.fc1(x))\n",
    "        return torch.sigmoid(self.fc2(x))\n"
   ]
  },
  {
   "cell_type": "code",
   "execution_count": null,
   "id": "91daeccc-727d-46cc-8385-1713e1beaa5a",
   "metadata": {},
   "outputs": [],
   "source": [
    "# 7. How do you define a loss function and optimizer in PyTorch?\n",
    "\n",
    "import torch.optim as optim\n",
    "\n",
    "model = SimpleNet()\n",
    "criterion = nn.BCELoss()\n",
    "optimizer = optim.Adam(model.parameters(), lr=0.001)\n"
   ]
  },
  {
   "cell_type": "code",
   "execution_count": null,
   "id": "bd03a02f-f2c0-4899-b636-48b3a03a5503",
   "metadata": {},
   "outputs": [],
   "source": [
    "#  8. How do you implement a custom loss function in PyTorch?\n",
    "\n",
    "def custom_loss(output, target):\n",
    "    return torch.mean((output - target)**2)\n",
    "\n",
    "loss = custom_loss(output, target)\n",
    "\n"
   ]
  },
  {
   "cell_type": "code",
   "execution_count": null,
   "id": "acf0684b-d3e0-4d8e-b696-b156bc7224a2",
   "metadata": {},
   "outputs": [],
   "source": [
    "##  9. How do you save and load a TensorFlow model?\n",
    "\n",
    "#Save:\n",
    "model.save('model.h5')  # or use SavedModel format: model.save('model_folder')\n",
    "\n",
    "#Load:\n",
    "from tensorflow.keras.models import load_model\n",
    "model = load_model('model.h5')\n"
   ]
  },
  {
   "cell_type": "code",
   "execution_count": null,
   "id": "96d4de84-de7f-426c-806f-6d219fb32313",
   "metadata": {},
   "outputs": [],
   "source": []
  }
 ],
 "metadata": {
  "kernelspec": {
   "display_name": "Python 3 (ipykernel)",
   "language": "python",
   "name": "python3"
  },
  "language_info": {
   "codemirror_mode": {
    "name": "ipython",
    "version": 3
   },
   "file_extension": ".py",
   "mimetype": "text/x-python",
   "name": "python",
   "nbconvert_exporter": "python",
   "pygments_lexer": "ipython3",
   "version": "3.12.7"
  }
 },
 "nbformat": 4,
 "nbformat_minor": 5
}
